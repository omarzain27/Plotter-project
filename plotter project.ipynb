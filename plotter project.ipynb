{
 "cells": [
  {
   "cell_type": "markdown",
   "id": "4917b7fe",
   "metadata": {},
   "source": [
    "# Plotter project"
   ]
  },
  {
   "cell_type": "markdown",
   "id": "65376fa6",
   "metadata": {},
   "source": [
    "plotter project for visualize all kind of data to any type of plot you want  "
   ]
  },
  {
   "cell_type": "code",
   "execution_count": 1,
   "id": "5f8dbb42",
   "metadata": {},
   "outputs": [],
   "source": [
    "import numpy as np\n",
    "import cufflinks as cf\n",
    "import pandas as pd\n",
    "import plotly as pl\n",
    "import plotly.offline as po\n",
    "import plotly.express as px\n",
    "%matplotlib inline"
   ]
  },
  {
   "cell_type": "code",
   "execution_count": 2,
   "id": "74e3fb8e",
   "metadata": {},
   "outputs": [
    {
     "data": {
      "text/html": [
       "        <script type=\"text/javascript\">\n",
       "        window.PlotlyConfig = {MathJaxConfig: 'local'};\n",
       "        if (window.MathJax) {MathJax.Hub.Config({SVG: {font: \"STIX-Web\"}});}\n",
       "        if (typeof require !== 'undefined') {\n",
       "        require.undef(\"plotly\");\n",
       "        requirejs.config({\n",
       "            paths: {\n",
       "                'plotly': ['https://cdn.plot.ly/plotly-2.6.3.min']\n",
       "            }\n",
       "        });\n",
       "        require(['plotly'], function(Plotly) {\n",
       "            window._Plotly = Plotly;\n",
       "        });\n",
       "        }\n",
       "        </script>\n",
       "        "
      ]
     },
     "metadata": {},
     "output_type": "display_data"
    }
   ],
   "source": [
    "po.init_notebook_mode(connected= True)"
   ]
  },
  {
   "cell_type": "code",
   "execution_count": 3,
   "id": "de615a1f",
   "metadata": {},
   "outputs": [
    {
     "data": {
      "text/html": [
       "        <script type=\"text/javascript\">\n",
       "        window.PlotlyConfig = {MathJaxConfig: 'local'};\n",
       "        if (window.MathJax) {MathJax.Hub.Config({SVG: {font: \"STIX-Web\"}});}\n",
       "        if (typeof require !== 'undefined') {\n",
       "        require.undef(\"plotly\");\n",
       "        requirejs.config({\n",
       "            paths: {\n",
       "                'plotly': ['https://cdn.plot.ly/plotly-2.6.3.min']\n",
       "            }\n",
       "        });\n",
       "        require(['plotly'], function(Plotly) {\n",
       "            window._Plotly = Plotly;\n",
       "        });\n",
       "        }\n",
       "        </script>\n",
       "        "
      ]
     },
     "metadata": {},
     "output_type": "display_data"
    }
   ],
   "source": [
    "cf.go_offline()"
   ]
  },
  {
   "cell_type": "code",
   "execution_count": 11,
   "id": "8294cd55",
   "metadata": {},
   "outputs": [],
   "source": [
    "def createdata(select):\n",
    "    if select == 1:\n",
    "        return pd.DataFrame(np.random.rand(100,5),columns=['A','B','C','D','E'])\n",
    "    elif select == 2:\n",
    "        x = [0,0,0,0,0]\n",
    "        r1= [0,0,0,0,0]\n",
    "        r2= [0,0,0,0,0]\n",
    "        r3= [0,0,0,0,0]\n",
    "        r4= [0,0,0,0,0]\n",
    "        print('Enter the values for columns')\n",
    "        i=0\n",
    "        for i in [0,1,2,3,4]:\n",
    "            x[i] = input()\n",
    "            i = i + 1\n",
    "        print('Enter the values for first row')\n",
    "        i=0\n",
    "        for i in [0,1,2,3,4]:\n",
    "            r1[i] = int(input())\n",
    "            i = i + 1\n",
    "        print('Enter the values for second row')\n",
    "        i=0\n",
    "        for i in [0,1,2,3,4]:\n",
    "            r2[i] = int(input())\n",
    "            i = i + 1\n",
    "        print('Enter the values for third row')\n",
    "        i=0\n",
    "        for i in [0,1,2,3,4]:\n",
    "            r3[i] = int(input())\n",
    "            i = i + 1\n",
    "        print('Enter the values for fourth row')\n",
    "        i=0\n",
    "        for i in [0,1,2,3,4]:\n",
    "            r4[i] = int(input())\n",
    "            i = i + 1\n",
    "        return pd.DataFrame([r1,r2,r3,r4] , columns = x)\n",
    "    elif select == 3:\n",
    "        file=input(\"Enter file name\")\n",
    "        return pd.read_csv(file)\n",
    "    else:\n",
    "        return print(\"data creation is failed please try again\")\n",
    "        \n",
    "            \n",
    "            \n",
    "        \n",
    "        "
   ]
  },
  {
   "cell_type": "code",
   "execution_count": 17,
   "id": "d2efec71",
   "metadata": {},
   "outputs": [],
   "source": [
    "def ploting(cat):\n",
    "    if cat == 1:\n",
    "        print(\"1.line plot\")\n",
    "        print(\"2.scatter plot\")\n",
    "        print(\"3.Bar plot\")\n",
    "        print(\"4.Histogram\")\n",
    "        print(\"5.Box plot\")\n",
    "        print(\"6.Surface plot\")\n",
    "        print(\"please select type of plot from 1 to 6\")\n",
    "        type_plot = int(input())\n",
    "        if type_plot == 1:\n",
    "            return df.iplot()\n",
    "        elif type_plot == 2:\n",
    "            return df.iplot(kind='scatter' , mode='markers' , symbol='x' ,colorscale='paired')\n",
    "        elif type_plot == 3:\n",
    "            return df.iplot(kind=\"bar\")\n",
    "        elif type_plot == 4:\n",
    "            return df.iplot(kind=\"histogram\")\n",
    "        elif type_plot == 5:\n",
    "            return df.iplot(kind=\"box\")\n",
    "        elif type_plot == 6:\n",
    "            return df.iplot(kind=\"surface\")\n",
    "        else:\n",
    "            return print(\"choose your ploting kind\")\n",
    "    elif cat == 2:\n",
    "        print(\"1.line plot\")\n",
    "        print(\"2.scatter plot\")\n",
    "        print(\"3.Bar plot\")\n",
    "        print(\"4.Histogram\")\n",
    "        print(\"5.Box plot\")\n",
    "        print(\"6.Surface plot\")\n",
    "        print(\"7.Bubble plot\")\n",
    "        print(\"please select type of plot from 1 to 7\")\n",
    "        type_plot = int(input())\n",
    "        cnt=int(input(\"please enter how many columns you need to plot 1,2,3\"))\n",
    "        if cnt == 1:\n",
    "            return plot1(type_plot)\n",
    "        if cnt == 2:\n",
    "            return plot2(type_plot)\n",
    "        if cnt == 3:\n",
    "            return plot3(type_plot)            "
   ]
  },
  {
   "cell_type": "code",
   "execution_count": 6,
   "id": "33e60e69",
   "metadata": {},
   "outputs": [],
   "source": [
    "def plot1(type_plot):\n",
    "    x=input(\"please enter first columns\")\n",
    "    if type_plot == 1:\n",
    "        return df[x].iplot()\n",
    "    elif type_plot == 2:\n",
    "        return df[x].iplot(kind='scatter' , mode='markers' , symbol='x' ,colorscale='paired')\n",
    "    elif type_plot == 3:\n",
    "        return df[x].iplot(kind=\"bar\")\n",
    "    elif type_plot == 4:\n",
    "        return df[x].iplot(kind=\"histogram\")\n",
    "    elif type_plot == 5:\n",
    "        return df.iplot(kind=\"box\")\n",
    "    elif type_plot == 6:\n",
    "        return print('Bubble plot and surface plot require more than one column arguments')\n",
    "    elif type_plot == 7:\n",
    "        return print('Bubble plot and surface plot require more than one column arguments')\n",
    "    else:\n",
    "        return print(\"choose your ploting kind\")"
   ]
  },
  {
   "cell_type": "code",
   "execution_count": 7,
   "id": "793331e9",
   "metadata": {},
   "outputs": [],
   "source": [
    "def plot2(type_plot):\n",
    "    x,y=input(\"please enter first and second columns\").split()\n",
    "    if type_plot == 1:\n",
    "        return df[[x,y]].iplot(kind='scatter')\n",
    "    elif type_plot == 2:\n",
    "        return df[[x,y]].iplot(kind='scatter' , mode='markers' , symbol='x' ,colorscale='paired')\n",
    "    elif type_plot == 3:\n",
    "        return df[[x,y]].iplot(kind=\"bar\")\n",
    "    elif type_plot == 4:\n",
    "        return df[[x,y]].iplot(kind=\"histogram\",)\n",
    "    elif type_plot == 5:\n",
    "        return df[[x,y]].iplot(kind=\"box\")\n",
    "    elif type_plot == 6:\n",
    "        return df[[x,y]].iplot(kind=\"surface\")\n",
    "    elif type_plot == 7:\n",
    "        size = input('Please enter the size column for bubble plot')\n",
    "        return df.iplot(kind='bubble' , x=x,y=y,size=size)\n",
    "    else:\n",
    "        return print(\"choose your ploting kind\")"
   ]
  },
  {
   "cell_type": "code",
   "execution_count": 8,
   "id": "4169cdb4",
   "metadata": {},
   "outputs": [],
   "source": [
    "def plot3(type_plot):\n",
    "    x ,y ,z = input(\"please enter first,second and third columns\").split()\n",
    "    if type_plot == 1:\n",
    "        return df[[x,y,z]].iplot()\n",
    "    elif type_plot == 2:\n",
    "        return df[[x,y,z]].iplot(kind='scatter' , mode='markers' , symbol='x' ,colorscale='paired')\n",
    "    elif type_plot == 3:\n",
    "        return df[[x,y,z]].iplot(kind=\"bar\")\n",
    "    elif type_plot == 4:\n",
    "        return df[[x,y,z]].iplot(kind=\"histogram\")\n",
    "    elif type_plot == 5:\n",
    "        return df[[x,y,z]].iplot(kind=\"box\")\n",
    "    elif type_plot == 6:\n",
    "        return df[[x,y,z]].iplot(kind=\"surface\")\n",
    "    elif type_plot==7:\n",
    "        size = input('Please enter the size column for bubble plot')\n",
    "        return df.iplot(kind='bubble' , x=x,y=y,z=z,size=size)\n",
    "    else:\n",
    "        return print(\"choose your ploting kind\")"
   ]
  },
  {
   "cell_type": "markdown",
   "id": "8bf039a2",
   "metadata": {},
   "source": [
    "# Data Entery"
   ]
  },
  {
   "cell_type": "code",
   "execution_count": null,
   "id": "9f93a72e",
   "metadata": {},
   "outputs": [],
   "source": [
    "print(\"select the type of data you want to be enter (by type 1,2 or 3)\")\n",
    "print(\"1.Random data with 100 rows and 5 columns \")\n",
    "print(\"2.create customize Dataframe \")\n",
    "print(\"3. Upload csv\")\n",
    "select = int(input())\n",
    "df=createdata(select)"
   ]
  },
  {
   "cell_type": "markdown",
   "id": "e7a8ca31",
   "metadata": {},
   "source": [
    "# Data Head"
   ]
  },
  {
   "cell_type": "code",
   "execution_count": null,
   "id": "c5945966",
   "metadata": {},
   "outputs": [],
   "source": [
    "print(\"your dataframe head is given below check the columns to plot using cufflinks\")\n",
    "df.head()"
   ]
  },
  {
   "cell_type": "markdown",
   "id": "1b7f2d47",
   "metadata": {},
   "source": [
    "# Ploting"
   ]
  },
  {
   "cell_type": "code",
   "execution_count": null,
   "id": "d805326f",
   "metadata": {},
   "outputs": [],
   "source": [
    "print(\"what kind of plot you need for complete data or for specific columns \")\n",
    "cat = int(input(\"press 1 for complete data press 2 for specific columns to print\"))\n"
   ]
  },
  {
   "cell_type": "code",
   "execution_count": null,
   "id": "0cb1708d",
   "metadata": {},
   "outputs": [
    {
     "name": "stdout",
     "output_type": "stream",
     "text": [
      "1.line plot\n",
      "2.scatter plot\n",
      "3.Bar plot\n",
      "4.Histogram\n",
      "5.Box plot\n",
      "6.Surface plot\n",
      "7.Bubble plot\n",
      "please select type of plot from 1 to 7\n"
     ]
    }
   ],
   "source": [
    "ploting(cat)"
   ]
  },
  {
   "cell_type": "code",
   "execution_count": null,
   "id": "e2d81b12",
   "metadata": {},
   "outputs": [],
   "source": []
  }
 ],
 "metadata": {
  "kernelspec": {
   "display_name": "Python 3 (ipykernel)",
   "language": "python",
   "name": "python3"
  },
  "language_info": {
   "codemirror_mode": {
    "name": "ipython",
    "version": 3
   },
   "file_extension": ".py",
   "mimetype": "text/x-python",
   "name": "python",
   "nbconvert_exporter": "python",
   "pygments_lexer": "ipython3",
   "version": "3.9.6"
  }
 },
 "nbformat": 4,
 "nbformat_minor": 5
}
